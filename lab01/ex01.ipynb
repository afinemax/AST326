{
 "cells": [
  {
   "cell_type": "markdown",
   "id": "da70b80e",
   "metadata": {},
   "source": [
    "# AST326 lab01\n",
    "### Maxwell Fine 1004714400\n",
    "\n",
    "Ex 01: Reproduce Figure 3 using your own Python code. Your plot does not have to be\n",
    "exactly the same as Figure 3 in every details but must provide a histogram compared with an\n",
    "expected Poisson distribution."
   ]
  },
  {
   "cell_type": "code",
   "execution_count": 2,
   "id": "d56a3ed5",
   "metadata": {},
   "outputs": [],
   "source": [
    "# imports\n",
    "import numpy as np\n",
    "import matplotlib.pyplot as plt\n",
    "from scipy.special import factorial"
   ]
  },
  {
   "cell_type": "code",
   "execution_count": 8,
   "id": "1d9d634c",
   "metadata": {},
   "outputs": [],
   "source": [
    "# poisson distrubutions\n",
    "\n",
    "def poisson_pmf(mean, k_array):\n",
    "    '''returns a Poisson positon mass function for\n",
    "       the specified mean, and computed over the k_array'''\n",
    "    \n",
    "    k= k_array\n",
    "    mu = mean\n",
    "    pmf = (mu**k * (np.e**-mu))/ factorial(k)\n",
    "    \n",
    "    return pmf\n",
    "\n",
    "mu = 12 # # this is the mean from the lab handout S\n",
    "size = 30 # how many data points will be gernated for emperical distributions\n",
    "\n",
    "# theoretical distributions\n",
    "k_arr = np.linspace(0, 30, 30)\n",
    "# end point chozen to be past the plotted values\n",
    "# nsamples chozen for smoothness\n",
    "\n",
    "theory = size * poisson_pmf(mu, k_arr)\n",
    "# poisson_pmf is normalized, so we must multiply by the number of samples\n",
    "\n",
    "\n",
    "# emperical distribution\n",
    "real_data =[ 13, 17, 18, 14, 11, 8, 21, 18, 9, 12,\n",
    " 9, 17, 14, 6, 10, 16, 16, 11, 10, 12,\n",
    " 8, 20, 14, 10, 14, 17, 13, 16,12,10]"
   ]
  },
  {
   "cell_type": "code",
   "execution_count": 9,
   "id": "0c693e7c",
   "metadata": {},
   "outputs": [
    {
     "data": {
      "text/plain": [
       "13.2"
      ]
     },
     "execution_count": 9,
     "metadata": {},
     "output_type": "execute_result"
    }
   ],
   "source": [
    "np.mean(real_data)"
   ]
  },
  {
   "cell_type": "code",
   "execution_count": 10,
   "id": "ef17c660",
   "metadata": {},
   "outputs": [
    {
     "data": {
      "image/png": "[encoded data removed]",
      "text/plain": [
       "<Figure size 432x288 with 1 Axes>"
      ]
     },
     "metadata": {
      "needs_background": "light"
     },
     "output_type": "display_data"
    }
   ],
   "source": [
    "# plotting code\n",
    "#plt.figure(figsize=(8, 6), dpi=80)\n",
    "plt.hist(real_data, bins=len(real_data), color='g', align='left',label='Emperical Data')\n",
    "plt.scatter(k_arr, theory, color = 'k', label='Poisson Distribution')\n",
    "#plt.plot(k_arr, theory, color = 'k', linestyle='--')\n",
    "plt.xlabel('Photon Count Rate', fontsize=12)\n",
    "plt.ylabel('Number of Measurments',fontsize=12)\n",
    "plt.title('Poisson Distributions', fontsize=12)\n",
    "plt.xlim(5, 22)\n",
    "plt.xticks([5,10,15,20], fontsize=12)\n",
    "plt.yticks([0,1,2,3,4], fontsize=12)\n",
    "plt.legend(fontsize=10)\n",
    "plt.savefig('figs/ex01.pdf', bbox_inches='tight')"
   ]
  },
  {
   "cell_type": "code",
   "execution_count": null,
   "id": "7300227d",
   "metadata": {},
   "outputs": [],
   "source": []
  },
  {
   "cell_type": "code",
   "execution_count": null,
   "id": "986661b5",
   "metadata": {},
   "outputs": [],
   "source": []
  }
 ],
 "metadata": {
  "kernelspec": {
   "display_name": "Python 3 (ipykernel)",
   "language": "python",
   "name": "python3"
  },
  "language_info": {
   "codemirror_mode": {
    "name": "ipython",
    "version": 3
   },
   "file_extension": ".py",
   "mimetype": "text/x-python",
   "name": "python",
   "nbconvert_exporter": "python",
   "pygments_lexer": "ipython3",
   "version": "3.9.12"
  }
 },
 "nbformat": 4,
 "nbformat_minor": 5
}
