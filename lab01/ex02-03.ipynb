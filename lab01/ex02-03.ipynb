{
 "cells": [
  {
   "cell_type": "markdown",
   "id": "9db6d948",
   "metadata": {},
   "source": [
    "# AST326 lab01\n",
    "### Maxwell Fine 1004714400\n",
    "\n",
    "Ex02: Read the two files in your Python code and calculate the mean and standard deviation\n",
    "of the measurements recorded in each file (so you will have values for “Small” and “Large”\n",
    "files respectively). Are they consistent with what you expect from a Poisson distribution? The difference between “Small” and “Large” is the integration time wherein the latter has a much longer integration time than the former, so larger count rates in “Large” files than “Small.”\n",
    "\n",
    "Ex03: Plot the measurements to examine their distributions. First, you can simply plot the\n",
    "measurements in sequence and then using a histogram (like Figure 1 above). These analyses\n",
    "and plots need to be done separately for “Small” and “Large” measurements. By glancing the\n",
    "plots, can you roughly estimate the mean and standard deviation of the two measurements?\n",
    "Compare the histogram that you created for the “Small” data with what is expected from a\n",
    "Poisson distribution as Figure 3 above."
   ]
  },
  {
   "cell_type": "code",
   "execution_count": 69,
   "id": "c0df0657",
   "metadata": {},
   "outputs": [],
   "source": [
    "# imports\n",
    "import numpy as np\n",
    "import matplotlib.pyplot as plt\n",
    "\n",
    "# data fname's\n",
    "large_f = 'data/Fine-finemaxw-Large.txt'\n",
    "small_f = 'data/Fine-finemaxw-Small.txt'"
   ]
  },
  {
   "cell_type": "code",
   "execution_count": 27,
   "id": "0893c9cc",
   "metadata": {},
   "outputs": [],
   "source": [
    "# load data\n",
    "\n",
    "large_data = np.genfromtxt(fname=large_f, dtype=int)\n",
    "small_data = np.genfromtxt(fname=small_f, dtype=int)"
   ]
  },
  {
   "cell_type": "markdown",
   "id": "602d7e42",
   "metadata": {},
   "source": [
    "## Ex02"
   ]
  },
  {
   "cell_type": "code",
   "execution_count": 53,
   "id": "453170df",
   "metadata": {},
   "outputs": [],
   "source": [
    "# determination if poisson distribution\n",
    "# recall for Poisson distributions that std**2 = mean, in real data this is only aproxametly true\n",
    "\n",
    "def is_poisson_mean(arr, tolerance=0.05):\n",
    "    # what to use for a 'good' tolerance? \n",
    "    # less then 5% error?\n",
    "    \n",
    "    mean = np.mean(arr)\n",
    "    std = np.std(arr)\n",
    "    \n",
    "    poisson_test = (mean-std**2) / mean\n",
    "    \n",
    "    return poisson_test\n",
    "    \n",
    "def is_poisson_std(arr, tolerance=0.05):\n",
    "    # what to use for a 'good' tolerance? \n",
    "    # less then 5% error?\n",
    "    \n",
    "    mean = np.mean(arr)\n",
    "    std = np.std(arr)\n",
    "    \n",
    "    poisson_test = (np.sqrt(mean)-std) / std\n",
    "    \n",
    "    return poisson_test"
   ]
  },
  {
   "cell_type": "code",
   "execution_count": 49,
   "id": "5e395634",
   "metadata": {},
   "outputs": [
    {
     "data": {
      "text/plain": [
       "True"
      ]
     },
     "execution_count": 49,
     "metadata": {},
     "output_type": "execute_result"
    }
   ],
   "source": [
    "is_poisson_mean(large_data, tolerance=0.05)"
   ]
  },
  {
   "cell_type": "code",
   "execution_count": 58,
   "id": "0f222edb",
   "metadata": {},
   "outputs": [
    {
     "data": {
      "text/plain": [
       "-0.7668334925077578"
      ]
     },
     "execution_count": 58,
     "metadata": {},
     "output_type": "execute_result"
    }
   ],
   "source": [
    "is_poisson_std(small_data, tolerance=0.001)  *100"
   ]
  },
  {
   "cell_type": "code",
   "execution_count": 59,
   "id": "3e097046",
   "metadata": {},
   "outputs": [
    {
     "data": {
      "text/plain": [
       "-1.551490107688457"
      ]
     },
     "execution_count": 59,
     "metadata": {},
     "output_type": "execute_result"
    }
   ],
   "source": [
    "is_poisson_mean(small_data, tolerance=0.001) *100"
   ]
  },
  {
   "cell_type": "markdown",
   "id": "c410de33",
   "metadata": {},
   "source": [
    "### depends on how we measure\n",
    "\n",
    "what is a good value? how do we justify this? "
   ]
  },
  {
   "cell_type": "code",
   "execution_count": 65,
   "id": "fff2d4bd",
   "metadata": {},
   "outputs": [
    {
     "data": {
      "text/plain": [
       "31.622776601683793"
      ]
     },
     "execution_count": 65,
     "metadata": {},
     "output_type": "execute_result"
    }
   ],
   "source": [
    "(31/1000) *100 #its less then sqrt(n) error is that resonable? "
   ]
  },
  {
   "cell_type": "markdown",
   "id": "27c87e5d",
   "metadata": {},
   "source": [
    "## Ex03"
   ]
  },
  {
   "cell_type": "code",
   "execution_count": 78,
   "id": "17f073de",
   "metadata": {},
   "outputs": [
    {
     "data": {
      "image/png": "[encoded data removed]",
      "text/plain": [
       "<Figure size 432x288 with 1 Axes>"
      ]
     },
     "metadata": {
      "needs_background": "light"
     },
     "output_type": "display_data"
    },
    {
     "data": {
      "text/plain": [
       "<matplotlib.collections.PathCollection at 0x7f96331eeee0>"
      ]
     },
     "execution_count": 78,
     "metadata": {},
     "output_type": "execute_result"
    },
    {
     "data": {
      "image/png": "[encoded data removed]",
      "text/plain": [
       "<Figure size 432x288 with 1 Axes>"
      ]
     },
     "metadata": {
      "needs_background": "light"
     },
     "output_type": "display_data"
    }
   ],
   "source": [
    "# make plotting function\n",
    "plt.hist(small_data, bins=int(np.sqrt(len(small_data))))\n",
    "plt.show()\n",
    "plt.scatter(np.arange(0, len(small_data)), small_data)"
   ]
  },
  {
   "cell_type": "code",
   "execution_count": null,
   "id": "94527de5",
   "metadata": {},
   "outputs": [],
   "source": []
  }
 ],
 "metadata": {
  "kernelspec": {
   "display_name": "Python 3 (ipykernel)",
   "language": "python",
   "name": "python3"
  },
  "language_info": {
   "codemirror_mode": {
    "name": "ipython",
    "version": 3
   },
   "file_extension": ".py",
   "mimetype": "text/x-python",
   "name": "python",
   "nbconvert_exporter": "python",
   "pygments_lexer": "ipython3",
   "version": "3.9.12"
  }
 },
 "nbformat": 4,
 "nbformat_minor": 5
}
